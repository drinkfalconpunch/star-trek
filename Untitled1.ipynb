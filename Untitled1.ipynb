{
 "cells": [
  {
   "cell_type": "code",
   "execution_count": 38,
   "metadata": {},
   "outputs": [],
   "source": [
    "import requests\n",
    "from bs4 import BeautifulSoup\n",
    "from selenium import webdriver\n",
    "from selenium.webdriver.common.by import By\n",
    "from selenium.webdriver.chrome.options import Options\n",
    "import os\n",
    "\n",
    "from pathlib import Path"
   ]
  },
  {
   "cell_type": "code",
   "execution_count": 35,
   "metadata": {},
   "outputs": [
    {
     "name": "stdout",
     "output_type": "stream",
     "text": [
      "tng\n"
     ]
    }
   ],
   "source": [
    "print(Path('./tng'))"
   ]
  },
  {
   "cell_type": "code",
   "execution_count": 41,
   "metadata": {},
   "outputs": [
    {
     "name": "stdout",
     "output_type": "stream",
     "text": [
      "finished\n"
     ]
    }
   ],
   "source": [
    "url = 'https://sites.google.com/site/tvwriting/us-drama/show-collections/star-trek-tng'\n",
    "xpath = \"//*[@class=\\\"dhtgD\\\"]\"\n",
    "path = 'tng' #Path('.\\tng')\n",
    "\n",
    "if not os.path.exists('tng'):\n",
    "    os.mkdir('tng')\n",
    "\n",
    "driver = webdriver.Firefox()\n",
    "driver.get(url)\n",
    "for s in driver.find_elements(By.XPATH, xpath)[:4]:\n",
    "    filename = s.text\n",
    "    link = s.get_attribute('href') # get the link to the document to pass to requests\n",
    "    r = requests.get(link, allow_redirects=True) # follow the link to the document\n",
    "    soup = BeautifulSoup(r.content, 'lxml')\n",
    "#     print(r.content)\n",
    "    file = soup.find_all('meta')[1]['content'][7:]\n",
    "    t = requests.get(file)\n",
    "    open(f'{filename}', 'wb').write(t.content)\n",
    "print('finished')\n",
    "driver.quit()\n",
    "#     soup = BeautifulSoup(s.content, 'lxml')\n",
    "#     file = soup.find_all('meta')[1]['content'][7:]\n",
    "#     r = requests.get(file)\n",
    "#     open(f'{s.text}', 'wb').write(r.content)"
   ]
  },
  {
   "cell_type": "code",
   "execution_count": 18,
   "metadata": {},
   "outputs": [
    {
     "data": {
      "text/plain": [
       "265055"
      ]
     },
     "execution_count": 18,
     "metadata": {},
     "output_type": "execute_result"
    }
   ],
   "source": [
    "# r = requests.get('test.html')#, r\"C:\\Users\\John Hudson\\Code\\star-trek\\test\\{}\".format(s.text)\n",
    "soup = BeautifulSoup(open('test.html'), 'lxml')\n",
    "file = soup.find_all('meta')[1]['content'][7:]\n",
    "open('test.pdf', 'wb').write(requests.get(file).content);"
   ]
  },
  {
   "cell_type": "code",
   "execution_count": null,
   "metadata": {},
   "outputs": [],
   "source": []
  }
 ],
 "metadata": {
  "kernelspec": {
   "display_name": "Python 3",
   "language": "python",
   "name": "python3"
  },
  "language_info": {
   "codemirror_mode": {
    "name": "ipython",
    "version": 3
   },
   "file_extension": ".py",
   "mimetype": "text/x-python",
   "name": "python",
   "nbconvert_exporter": "python",
   "pygments_lexer": "ipython3",
   "version": "3.7.3"
  }
 },
 "nbformat": 4,
 "nbformat_minor": 2
}
