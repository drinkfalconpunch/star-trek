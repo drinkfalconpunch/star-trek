{
 "cells": [
  {
   "cell_type": "code",
   "execution_count": 1,
   "metadata": {},
   "outputs": [
    {
     "data": {
      "text/html": [
       "<style>.container { width:90% !important; }</style>"
      ],
      "text/plain": [
       "<IPython.core.display.HTML object>"
      ]
     },
     "metadata": {},
     "output_type": "display_data"
    }
   ],
   "source": [
    "from IPython.core.display import display, HTML\n",
    "display(HTML(\"<style>.container { width:90% !important; }</style>\"))"
   ]
  },
  {
   "cell_type": "code",
   "execution_count": 2,
   "metadata": {
    "pycharm": {
     "is_executing": false
    }
   },
   "outputs": [],
   "source": [
    "import requests\n",
    "from bs4 import BeautifulSoup\n",
    "from selenium import webdriver\n",
    "from selenium.webdriver.common.by import By\n",
    "from selenium.webdriver.chrome.options import Options\n",
    "import os\n",
    "\n",
    "from pathlib import Path"
   ]
  },
  {
   "cell_type": "code",
   "execution_count": 3,
   "metadata": {},
   "outputs": [
    {
     "name": "stdout",
     "output_type": "stream",
     "text": [
      "tng\n"
     ]
    }
   ],
   "source": [
    "print(Path('./tng'))"
   ]
  },
  {
   "cell_type": "code",
   "execution_count": 3,
   "metadata": {
    "pycharm": {
     "is_executing": false
    }
   },
   "outputs": [],
   "source": [
    "url = 'https://sites.google.com/site/tvwriting/us-drama/show-collections/star-trek-tng'\n",
    "xpath = \"//*[@class=\\\"dhtgD\\\"]\"\n",
    "path = 'tng' #Path('.\\tng')"
   ]
  },
  {
   "cell_type": "code",
   "execution_count": 5,
   "metadata": {},
   "outputs": [
    {
     "name": "stdout",
     "output_type": "stream",
     "text": [
      "[]\n"
     ]
    }
   ],
   "source": [
    "driver = webdriver.Firefox()\n",
    "driver.get(url)\n",
    "content = driver.find_elements_by_xpath(xpath)\n",
    "print(content)\n",
    "driver.quit()"
   ]
  },
  {
   "cell_type": "code",
   "execution_count": null,
   "metadata": {},
   "outputs": [],
   "source": []
  },
  {
   "cell_type": "code",
   "execution_count": null,
   "metadata": {},
   "outputs": [],
   "source": []
  },
  {
   "cell_type": "code",
   "execution_count": 4,
   "metadata": {
    "pycharm": {
     "is_executing": false
    }
   },
   "outputs": [
    {
     "name": "stdout",
     "text": [
      "finished\n"
     ],
     "output_type": "stream"
    }
   ],
   "source": [
    "url = 'https://sites.google.com/site/tvwriting/us-drama/show-collections/star-trek-tng'\n",
    "xpath = \"//*[@class=\\\"dhtgD\\\"]\"\n",
    "path = 'tng' #Path('.\\tng')\n",
    "\n",
    "if not os.path.exists('tng'):\n",
    "    os.mkdir('tng')\n",
    "\n",
    "driver = webdriver.Firefox()\n",
    "driver.get(url)\n",
    "for s in driver.find_elements(By.XPATH, xpath)[:4]:\n",
    "    print(s)\n",
    "    filename = s.text\n",
    "    link = s.get_attribute('href') # get the link to the document to pass to requests\n",
    "    r = requests.get(link, allow_redirects=True) # follow the link to the document\n",
    "    soup = BeautifulSoup(r.content, 'lxml')\n",
    "    print(r.content)\n",
    "    file = soup.find_all('meta')[1]['content'][7:]\n",
    "    print(file)\n",
    "    t = requests.get(file)\n",
    "    open(f'{filename}', 'wb').write(t.content)\n",
    "print('finished')\n",
    "driver.quit()\n",
    "#     soup = BeautifulSoup(s.content, 'lxml')\n",
    "#     file = soup.find_all('meta')[1]['content'][7:]\n",
    "#     r = requests.get(file)\n",
    "#     open(f'{s.text}', 'wb').write(r.content)"
   ]
  },
  {
   "cell_type": "code",
   "execution_count": 13,
   "metadata": {},
   "outputs": [],
   "source": [
    "# r = requests.get('test.html')#, r\"C:\\Users\\John Hudson\\Code\\star-trek\\test\\{}\".format(s.text)\n",
    "soup = BeautifulSoup(open('test.html'), 'lxml')\n",
    "file = soup.find_all('meta')[1]['content'][7:]\n",
    "open('test.pdf', 'wb').write(requests.get(file).content);"
   ]
  },
  {
   "cell_type": "code",
   "execution_count": null,
   "metadata": {},
   "outputs": [],
   "source": []
  },
  {
   "cell_type": "code",
   "execution_count": 1,
   "metadata": {},
   "outputs": [],
   "source": [
    "import PyPDF2"
   ]
  },
  {
   "cell_type": "code",
   "execution_count": 2,
   "metadata": {},
   "outputs": [],
   "source": [
    "testfile = open('Star Trek - The Next Generation 1x01-102 - Encounter at Farpoint.pdf', 'rb')"
   ]
  },
  {
   "cell_type": "code",
   "execution_count": 3,
   "metadata": {},
   "outputs": [],
   "source": [
    "reader = PyPDF2.PdfFileReader(testfile)"
   ]
  },
  {
   "cell_type": "code",
   "execution_count": 4,
   "metadata": {},
   "outputs": [
    {
     "data": {
      "text/plain": [
       "114"
      ]
     },
     "execution_count": 4,
     "metadata": {},
     "output_type": "execute_result"
    }
   ],
   "source": [
    "reader.numPages"
   ]
  },
  {
   "cell_type": "code",
   "execution_count": 6,
   "metadata": {},
   "outputs": [
    {
     "data": {
      "text/plain": [
       "'\\n\\n\\n\\n\\n\\n\\n\\n\\n\\n\\n\\n\\n\\n\\n\\n\\n\\n\\n\\n\\n\\n\\n\\n\\n\\n\\n\\n˘ˇˆ\\n\\n\\n\\n˙˝\\n\\n˛˚˜˚˘\\n\\n \\n\\n  ˙˝\\n\\n\\n\\n!ˆ\"\"ˆˇˆ\"#ˇ˙$ˆˆˇ ˆ˚\\n\\nˆ\"!ˆ%  ˆ\"ˇ\"#!\"&˚#$\"\\n\\n \"˝ \\'ˇ$\"ˆ#˝!ˆˇ˛ˇ&˚\\n\\n\\n\\n˘(˛˘\\n\\n\\nˇˆ$)*\\')+,-\\n\\n\\n\\n\\n\\n\\n\\n\\n\\n\\n\\n\\n\\n\\n\\n\\n\\n'"
      ]
     },
     "execution_count": 6,
     "metadata": {},
     "output_type": "execute_result"
    }
   ],
   "source": [
    "reader.getPage(0).extractText()"
   ]
  },
  {
   "cell_type": "code",
   "execution_count": 10,
   "metadata": {},
   "outputs": [],
   "source": [
    "from tika import parser"
   ]
  },
  {
   "cell_type": "code",
   "execution_count": 11,
   "metadata": {},
   "outputs": [],
   "source": [
    "# https://stackoverflow.com/a/48673754/10107786\n",
    "raw = parser.from_file('Star Trek - The Next Generation 1x01-102 - Encounter at Farpoint.pdf')\n",
    "# print(raw['content'])"
   ]
  },
  {
   "cell_type": "code",
   "execution_count": null,
   "metadata": {},
   "outputs": [],
   "source": []
  }
 ],
 "metadata": {
  "kernelspec": {
   "display_name": "startrek",
   "language": "python",
   "name": "startrek"
  },
  "language_info": {
   "codemirror_mode": {
    "name": "ipython",
    "version": 3
   },
   "file_extension": ".py",
   "mimetype": "text/x-python",
   "name": "python",
   "nbconvert_exporter": "python",
   "pygments_lexer": "ipython3",
   "version": "3.7.3"
  }
 },
 "nbformat": 4,
 "nbformat_minor": 2
}