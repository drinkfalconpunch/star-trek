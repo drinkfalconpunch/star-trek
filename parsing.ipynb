{
 "cells": [
  {
   "cell_type": "code",
   "execution_count": 36,
   "metadata": {},
   "outputs": [],
   "source": [
    "from pathlib import Path\n",
    "import re"
   ]
  },
  {
   "cell_type": "code",
   "execution_count": 4,
   "metadata": {},
   "outputs": [],
   "source": [
    "file = 'Episode 5 - Haven.txt'"
   ]
  },
  {
   "cell_type": "code",
   "execution_count": 21,
   "metadata": {},
   "outputs": [],
   "source": [
    "script = open(Path('./scripts/tng') / file, 'r').read()"
   ]
  },
  {
   "cell_type": "code",
   "execution_count": 24,
   "metadata": {},
   "outputs": [],
   "source": [
    "spoken_text = ''"
   ]
  },
  {
   "cell_type": "code",
   "execution_count": 46,
   "metadata": {},
   "outputs": [],
   "source": [
    "from collections import deque"
   ]
  },
  {
   "cell_type": "code",
   "execution_count": null,
   "metadata": {},
   "outputs": [],
   "source": []
  },
  {
   "cell_type": "code",
   "execution_count": 144,
   "metadata": {},
   "outputs": [],
   "source": [
    "def extract_entire_dialogue(script, remove_blank_lines=False):\n",
    "    script = deque(script.split('\\n'))\n",
    "    # Iterate through the lines until a number is found as the first character.\n",
    "    while True:\n",
    "        line = script.popleft()\n",
    "        words = line.split()\n",
    "        \n",
    "        # Skip blank lines\n",
    "        if not words:\n",
    "            continue\n",
    "        try:\n",
    "            # Found the first line.\n",
    "            int(words[0][0])\n",
    "            #  Put it back and break. Runs in O(1) time.\n",
    "            script.appendleft(line)\n",
    "            break\n",
    "        except ValueError:\n",
    "            continue\n",
    "            \n",
    "    if remove_blank_lines:\n",
    "        script = list(filter(None, script))\n",
    "\n",
    "    return [s.lstrip() for s in script]"
   ]
  },
  {
   "cell_type": "code",
   "execution_count": 179,
   "metadata": {},
   "outputs": [],
   "source": [
    "def section_headers(dialogue):\n",
    "    '''Returns the section headers from a block of dialogue and their\n",
    "    respective line numbers in said block.'''\n",
    "    sections = {}\n",
    "    indices = []\n",
    "    \n",
    "    for index, line in enumerate(dialogue):\n",
    "        words = line.split()\n",
    "        if not words:\n",
    "            continue\n",
    "        try:\n",
    "            int(words[0][0])\n",
    "            number = words[0]\n",
    "            name = \" \".join(words[1:])\n",
    "            if not name:\n",
    "                name = 'OMITTED'\n",
    "            # Check for same section number\n",
    "            if number in sections.keys():\n",
    "                sections[number].append(name)\n",
    "            else:\n",
    "                sections[number] = [name]\n",
    "            indices.append(index)\n",
    "        except:\n",
    "            continue\n",
    "\n",
    "    return sections, indices"
   ]
  },
  {
   "cell_type": "code",
   "execution_count": null,
   "metadata": {},
   "outputs": [],
   "source": []
  },
  {
   "cell_type": "code",
   "execution_count": null,
   "metadata": {},
   "outputs": [],
   "source": [
    "sections, indices = section_headers(script)"
   ]
  },
  {
   "cell_type": "code",
   "execution_count": null,
   "metadata": {},
   "outputs": [],
   "source": [
    "indices"
   ]
  },
  {
   "cell_type": "code",
   "execution_count": null,
   "metadata": {},
   "outputs": [],
   "source": []
  },
  {
   "cell_type": "code",
   "execution_count": 180,
   "metadata": {},
   "outputs": [],
   "source": [
    "test = extract_entire_dialogue(script, remove_blank_lines=True)"
   ]
  },
  {
   "cell_type": "code",
   "execution_count": null,
   "metadata": {},
   "outputs": [],
   "source": [
    "test"
   ]
  },
  {
   "cell_type": "code",
   "execution_count": null,
   "metadata": {},
   "outputs": [],
   "source": []
  },
  {
   "cell_type": "code",
   "execution_count": null,
   "metadata": {},
   "outputs": [],
   "source": []
  },
  {
   "cell_type": "code",
   "execution_count": null,
   "metadata": {},
   "outputs": [],
   "source": [
    "sections, indices = section_headers(test)"
   ]
  },
  {
   "cell_type": "code",
   "execution_count": 186,
   "metadata": {},
   "outputs": [],
   "source": [
    "i = 0\n",
    "for key in sections.values():\n",
    "    i += len(key)"
   ]
  },
  {
   "cell_type": "code",
   "execution_count": 188,
   "metadata": {},
   "outputs": [
    {
     "data": {
      "text/plain": [
       "(164, 164, 118)"
      ]
     },
     "execution_count": 188,
     "metadata": {},
     "output_type": "execute_result"
    }
   ],
   "source": [
    "i, len(indices), len(sections.keys())"
   ]
  },
  {
   "cell_type": "code",
   "execution_count": null,
   "metadata": {},
   "outputs": [],
   "source": [
    "def find_actors(script):\n",
    "    actors = ''\n",
    "    for line in script.split('\\n'):\n",
    "        words = line.split()\n",
    "    #     print(words)\n",
    "        if not words:\n",
    "            continue\n",
    "        if len(words[0]) > 1 and all([i.isupper() for i in words]):\n",
    "            # check if line starts with number and skip if true\n",
    "            try:\n",
    "                int(words[0][0])\n",
    "                continue\n",
    "            except:\n",
    "                pass\n",
    "            print('caps', words)\n",
    "            continue\n",
    "        if len(line) - len(line.lstrip()) > 4:\n",
    "            spoken_text = spoken_text + line.strip() + ' \\n'\n",
    "\n",
    "        "
   ]
  },
  {
   "cell_type": "code",
   "execution_count": null,
   "metadata": {},
   "outputs": [],
   "source": [
    "print(spoken_text)"
   ]
  },
  {
   "cell_type": "code",
   "execution_count": null,
   "metadata": {},
   "outputs": [],
   "source": []
  }
 ],
 "metadata": {
  "kernelspec": {
   "display_name": "Python 3",
   "language": "python",
   "name": "python3"
  },
  "language_info": {
   "codemirror_mode": {
    "name": "ipython",
    "version": 3
   },
   "file_extension": ".py",
   "mimetype": "text/x-python",
   "name": "python",
   "nbconvert_exporter": "python",
   "pygments_lexer": "ipython3",
   "version": "3.7.3"
  }
 },
 "nbformat": 4,
 "nbformat_minor": 2
}
