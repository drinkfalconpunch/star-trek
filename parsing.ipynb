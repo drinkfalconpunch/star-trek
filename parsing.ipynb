{
 "cells": [
  {
   "cell_type": "code",
   "execution_count": 1,
   "metadata": {
    "pycharm": {
     "is_executing": false
    }
   },
   "outputs": [],
   "source": [
    "from pathlib import Path\n",
    "import episode\n",
    "import re\n",
    "import importlib\n",
    "import preprocess\n",
    "from imdb import IMDb"
   ]
  },
  {
   "cell_type": "code",
   "execution_count": 2,
   "metadata": {},
   "outputs": [],
   "source": [
    "import episode\n",
    "import script\n",
    "import spider\n",
    "\n",
    "importlib.reload(spider)\n",
    "importlib.reload(script)\n",
    "importlib.reload(episode)\n",
    "\n",
    "from script import Script\n",
    "from episode import Episode\n",
    "from spider import StarTrekSpider"
   ]
  },
  {
   "cell_type": "code",
   "execution_count": 121,
   "metadata": {
    "pycharm": {
     "is_executing": false
    }
   },
   "outputs": [],
   "source": [
    "file = 'Episode 5 - Haven.txt'"
   ]
  },
  {
   "cell_type": "code",
   "execution_count": 122,
   "metadata": {
    "pycharm": {
     "is_executing": false
    }
   },
   "outputs": [
    {
     "ename": "FileNotFoundError",
     "evalue": "[Errno 2] No such file or directory: 'scripts/tng/Episode 5 - Haven.txt'",
     "output_type": "error",
     "traceback": [
      "\u001b[0;31m---------------------------------------------------------------------------\u001b[0m",
      "\u001b[0;31mFileNotFoundError\u001b[0m                         Traceback (most recent call last)",
      "\u001b[0;32m<ipython-input-122-82f5c0bfe998>\u001b[0m in \u001b[0;36m<module>\u001b[0;34m\u001b[0m\n\u001b[0;32m----> 1\u001b[0;31m \u001b[0mscript\u001b[0m \u001b[0;34m=\u001b[0m \u001b[0mopen\u001b[0m\u001b[0;34m(\u001b[0m\u001b[0mPath\u001b[0m\u001b[0;34m(\u001b[0m\u001b[0;34m'./scripts/tng'\u001b[0m\u001b[0;34m)\u001b[0m \u001b[0;34m/\u001b[0m \u001b[0mfile\u001b[0m\u001b[0;34m,\u001b[0m \u001b[0;34m'r'\u001b[0m\u001b[0;34m)\u001b[0m\u001b[0;34m.\u001b[0m\u001b[0mread\u001b[0m\u001b[0;34m(\u001b[0m\u001b[0;34m)\u001b[0m\u001b[0;34m\u001b[0m\u001b[0;34m\u001b[0m\u001b[0m\n\u001b[0m",
      "\u001b[0;31mFileNotFoundError\u001b[0m: [Errno 2] No such file or directory: 'scripts/tng/Episode 5 - Haven.txt'"
     ]
    }
   ],
   "source": [
    "script = open(Path('./scripts/tng') / file, 'r').read()"
   ]
  },
  {
   "cell_type": "code",
   "execution_count": 123,
   "metadata": {},
   "outputs": [],
   "source": [
    "STAR_TREK = 'STAR TREK'"
   ]
  },
  {
   "cell_type": "code",
   "execution_count": 129,
   "metadata": {},
   "outputs": [],
   "source": [
    "haven = Script(script)"
   ]
  },
  {
   "cell_type": "code",
   "execution_count": 24,
   "metadata": {},
   "outputs": [
    {
     "ename": "NameError",
     "evalue": "name 'haven' is not defined",
     "output_type": "error",
     "traceback": [
      "\u001b[0;31m---------------------------------------------------------------------------\u001b[0m",
      "\u001b[0;31mNameError\u001b[0m                                 Traceback (most recent call last)",
      "\u001b[0;32m<ipython-input-24-8cb85fc35107>\u001b[0m in \u001b[0;36m<module>\u001b[0;34m\u001b[0m\n\u001b[0;32m----> 1\u001b[0;31m \u001b[0ma\u001b[0m \u001b[0;34m=\u001b[0m \u001b[0mhaven\u001b[0m\u001b[0;34m.\u001b[0m\u001b[0mextract_entire_dialogue\u001b[0m\u001b[0;34m(\u001b[0m\u001b[0mremove_blank_lines\u001b[0m\u001b[0;34m=\u001b[0m\u001b[0;32mTrue\u001b[0m\u001b[0;34m)\u001b[0m\u001b[0;34m\u001b[0m\u001b[0;34m\u001b[0m\u001b[0m\n\u001b[0m",
      "\u001b[0;31mNameError\u001b[0m: name 'haven' is not defined"
     ]
    }
   ],
   "source": [
    "a = haven.extract_entire_dialogue(remove_blank_lines=True)"
   ]
  },
  {
   "cell_type": "code",
   "execution_count": 3,
   "metadata": {},
   "outputs": [],
   "source": [
    "p = StarTrekSpider('tng')"
   ]
  },
  {
   "cell_type": "code",
   "execution_count": 8,
   "metadata": {},
   "outputs": [
    {
     "name": "stdout",
     "output_type": "stream",
     "text": [
      "Downloading...\n",
      "Finished downloading. Scripts saved in /Users/john/Code/star-trek/scripts/tng\n"
     ]
    }
   ],
   "source": [
    "p.get_scripts(folder='scripts')"
   ]
  },
  {
   "cell_type": "code",
   "execution_count": 4,
   "metadata": {},
   "outputs": [
    {
     "data": {
      "text/plain": [
       "<coroutine object StarTrekSpider.get_scripts_async at 0x10b97e4c8>"
      ]
     },
     "execution_count": 4,
     "metadata": {},
     "output_type": "execute_result"
    }
   ],
   "source": [
    "p.get_scripts_async(folder='async')"
   ]
  },
  {
   "cell_type": "code",
   "execution_count": 5,
   "metadata": {},
   "outputs": [
    {
     "data": {
      "text/plain": [
       "{'Episode 1 - Encounter at Farpoint.txt': 'https://scifi.media/wp-content/uploads/t/102.txt',\n",
       " 'Episode 3 - The Naked Now.txt': 'https://scifi.media/wp-content/uploads/t/103.txt',\n",
       " 'Episode 4 - Code of Honor.txt': 'https://scifi.media/wp-content/uploads/t/104.txt',\n",
       " 'Episode 5 - Haven.txt': 'https://scifi.media/wp-content/uploads/t/105.txt',\n",
       " 'Episode 6 - Where No One Has Gone Before.txt': 'https://scifi.media/wp-content/uploads/t/106.txt',\n",
       " 'Episode 7 - “The Last Outpost”.txt': 'https://scifi.media/wp-content/uploads/t/107.txt',\n",
       " 'Episode 8 - Lonely Among Us.txt': 'https://scifi.media/wp-content/uploads/t/108.txt',\n",
       " 'Episode 9 - Justice.txt': 'https://scifi.media/wp-content/uploads/t/109.txt',\n",
       " 'Episode 10 - The Battle.txt': 'https://scifi.media/wp-content/uploads/t/110.txt',\n",
       " 'Episode 11 - Hide and Q.txt': 'https://scifi.media/wp-content/uploads/t/111.txt',\n",
       " 'Episode 12 - Too Short A Season.txt': 'https://scifi.media/wp-content/uploads/t/112.txt',\n",
       " 'Episode 13 - The Big Goodbye.txt': 'https://scifi.media/wp-content/uploads/t/113.txt',\n",
       " 'Episode 14 - Datalore.txt': 'https://scifi.media/wp-content/uploads/t/114.txt',\n",
       " 'Episode 15 - Angel One.txt': 'https://scifi.media/wp-content/uploads/t/115.txt',\n",
       " 'Episode 16 - 11001001.txt': 'https://scifi.media/wp-content/uploads/t/116.txt',\n",
       " 'Episode 17 - Home Soil.txt': 'https://scifi.media/wp-content/uploads/t/117.txt',\n",
       " 'Episode 18 - When the Bough Breaks.txt': 'https://scifi.media/wp-content/uploads/t/118.txt',\n",
       " 'Episode 19 - Coming of Age.txt': 'https://scifi.media/wp-content/uploads/t/119.txt',\n",
       " 'Episode 20 - Heart of Glory.txt': 'https://scifi.media/wp-content/uploads/t/120.txt',\n",
       " 'Episode 21 - The Arsenal of Freedom.txt': 'https://scifi.media/wp-content/uploads/t/121.txt',\n",
       " 'Episode 22 - Symbiosis.txt': 'https://scifi.media/wp-content/uploads/t/123.txt',\n",
       " 'Episode 23 - Skin of Evil.txt': 'https://scifi.media/wp-content/uploads/t/122.txt',\n",
       " 'Episode 24 - We’ll Always Have Paris.txt': 'https://scifi.media/wp-content/uploads/t/124.txt',\n",
       " 'Episode 25 - Conspiracy.txt': 'https://scifi.media/wp-content/uploads/t/125.txt',\n",
       " 'Episode 26 - The Neutral Zone.txt': 'https://scifi.media/wp-content/uploads/t/126.txt',\n",
       " 'Episode 27 - The Child.txt': 'https://scifi.media/wp-content/uploads/t/127.txt',\n",
       " 'Episode 28 - Where Silence Has Lease.txt': 'https://scifi.media/wp-content/uploads/t/128.txt',\n",
       " 'Episode 29 - Elementary, Dear Data.txt': 'https://scifi.media/wp-content/uploads/t/129.txt',\n",
       " 'Episode 30 - The Outrageous Okona.txt': 'https://scifi.media/wp-content/uploads/t/130.txt',\n",
       " 'Episode 31 - The Schizoid Man.txt': 'https://scifi.media/wp-content/uploads/t/131.txt',\n",
       " 'Episode 32 - Loud as a Whisper.txt': 'https://scifi.media/wp-content/uploads/t/132.txt',\n",
       " 'Episode 33 - Unnatural Selection.txt': 'https://scifi.media/wp-content/uploads/t/133.txt',\n",
       " 'Episode 34 - A Matter of Honor.txt': 'https://scifi.media/wp-content/uploads/t/134.txt',\n",
       " 'Episode 35 - The Measure of a Man.txt': 'https://scifi.media/wp-content/uploads/t/135.txt',\n",
       " 'Episode 36 - The Dauphin.txt': 'https://scifi.media/wp-content/uploads/t/136.txt',\n",
       " 'Episode 37 - Contagion.txt': 'https://scifi.media/wp-content/uploads/t/137.txt',\n",
       " 'Episode 38 - The Royale.txt': 'https://scifi.media/wp-content/uploads/t/138.txt',\n",
       " 'Episode 39 - Time Squared.txt': 'https://scifi.media/wp-content/uploads/t/139.txt',\n",
       " 'Episode 40 - The Icarus Factor.txt': 'https://scifi.media/wp-content/uploads/t/140.txt',\n",
       " 'Episode 41 - Pen Pals.txt': 'https://scifi.media/wp-content/uploads/t/141.txt',\n",
       " 'Episode 42 - Q Who.txt': 'https://scifi.media/wp-content/uploads/t/142.txt',\n",
       " 'Episode 43 - Samaritan Snare.txt': 'https://scifi.media/wp-content/uploads/t/143.txt',\n",
       " 'Episode 44 - Up the Long Ladder.txt': 'https://scifi.media/wp-content/uploads/t/144.txt',\n",
       " 'Episode 45 - Manhunt.txt': 'https://scifi.media/wp-content/uploads/t/145.txt',\n",
       " 'Episode 46 - The Emissary.txt': 'https://scifi.media/wp-content/uploads/t/146.txt',\n",
       " 'Episode 47 - Peak Performance.txt': 'https://scifi.media/wp-content/uploads/t/147.txt',\n",
       " 'Episode 48 - Shades of Grey.txt': 'https://scifi.media/wp-content/uploads/t/148.txt',\n",
       " 'Episode 49 - The Ensigns of Command.txt': 'https://scifi.media/wp-content/uploads/t/149.txt',\n",
       " 'Episode 50 - Evolution.txt': 'https://scifi.media/wp-content/uploads/t/150.txt',\n",
       " 'Episode 51 - The Survivors.txt': 'https://scifi.media/wp-content/uploads/t/151.txt',\n",
       " 'Episode 52 - Who Watches the Watchers.txt': 'https://scifi.media/wp-content/uploads/t/152.txt',\n",
       " 'Episode 53 - The Bonding.txt': 'https://scifi.media/wp-content/uploads/t/153.txt',\n",
       " 'Episode 54 - Booby Trap.txt': 'https://scifi.media/wp-content/uploads/t/154.txt',\n",
       " 'Episode 55 - The Enemy.txt': 'https://scifi.media/wp-content/uploads/t/155.txt',\n",
       " 'Episode 56 - The Price.txt': 'https://scifi.media/wp-content/uploads/t/156.txt',\n",
       " 'Episode 57 - The Vengeance Factor.txt': 'https://scifi.media/wp-content/uploads/t/157.txt',\n",
       " 'Episode 58 - The Defector.txt': 'https://scifi.media/wp-content/uploads/t/158.txt',\n",
       " 'Episode 59 - The Hunted.txt': 'https://scifi.media/wp-content/uploads/t/159.txt',\n",
       " 'Episode 60 - The High Ground.txt': 'https://scifi.media/wp-content/uploads/t/160.txt',\n",
       " 'Episode 61 - Déjà Q.txt': 'https://scifi.media/wp-content/uploads/t/161.txt',\n",
       " 'Episode 62 - A Matter of Perspective.txt': 'https://scifi.media/wp-content/uploads/t/162.txt',\n",
       " 'Episode 63 - Yesterday’s Enterprise.txt': 'https://scifi.media/wp-content/uploads/t/163.txt',\n",
       " 'Episode 64 - The Offspring.txt': 'https://scifi.media/wp-content/uploads/t/164.txt',\n",
       " 'Episode 65 - Sins of the Father.txt': 'https://scifi.media/wp-content/uploads/t/165.txt',\n",
       " 'Episode 66 - Allegiance.txt': 'https://scifi.media/wp-content/uploads/t/166.txt',\n",
       " 'Episode 67 - Captain’s Holiday.txt': 'https://scifi.media/wp-content/uploads/t/167.txt',\n",
       " 'Episode 68 - Tin Man.txt': 'https://scifi.media/wp-content/uploads/t/168.txt',\n",
       " 'Episode 69 - Hollow Pursuits.txt': 'https://scifi.media/wp-content/uploads/t/169.txt',\n",
       " 'Episode 70 - The Most Toys.txt': 'https://scifi.media/wp-content/uploads/t/170.txt',\n",
       " 'Episode 71 - Sarek.txt': 'https://scifi.media/wp-content/uploads/t/171.txt',\n",
       " 'Episode 72 - Ménage á Troi.txt': 'https://scifi.media/wp-content/uploads/t/172.txt',\n",
       " 'Episode 73 - Transfigurations.txt': 'https://scifi.media/wp-content/uploads/t/173.txt',\n",
       " 'Episode 74 - The Best of Both Worlds, Part I.txt': 'https://scifi.media/wp-content/uploads/t/174.txt',\n",
       " 'Episode 75 - The Best of Both Worlds, Part II.txt': 'https://scifi.media/wp-content/uploads/t/175.txt',\n",
       " 'Episode 76 - Family.txt': 'https://scifi.media/wp-content/uploads/t/176.txt',\n",
       " 'Episode 77 - Brothers.txt': 'https://scifi.media/wp-content/uploads/t/177.txt',\n",
       " 'Episode 78 - Suddenly Human.txt': 'https://scifi.media/wp-content/uploads/t/178.txt',\n",
       " 'Episode 79 - Remember Me.txt': 'https://scifi.media/wp-content/uploads/t/179.txt',\n",
       " 'Episode 80 - Legacy.txt': 'https://scifi.media/wp-content/uploads/t/180.txt',\n",
       " 'Episode 81 - Reunion.txt': 'https://scifi.media/wp-content/uploads/t/181.txt',\n",
       " 'Episode 82 - Future Imperfect.txt': 'https://scifi.media/wp-content/uploads/t/182.txt',\n",
       " 'Episode 83 - Final Mission.txt': 'https://scifi.media/wp-content/uploads/t/183.txt',\n",
       " 'Episode 84 - The Loss.txt': 'https://scifi.media/wp-content/uploads/t/184.txt',\n",
       " 'Episode 85 - Data’s Day.txt': 'https://scifi.media/wp-content/uploads/t/185.txt',\n",
       " 'Episode 86 - The Wounded.txt': 'https://scifi.media/wp-content/uploads/t/186.txt',\n",
       " 'Episode 87 - Devil’s Due.txt': 'https://scifi.media/wp-content/uploads/t/187.txt',\n",
       " 'Episode 88 - Clues.txt': 'https://scifi.media/wp-content/uploads/t/188.txt',\n",
       " 'Episode 89 - First Contact.txt': 'https://scifi.media/wp-content/uploads/t/189.txt',\n",
       " 'Episode 90 - Galaxy’s Child.txt': 'https://scifi.media/wp-content/uploads/t/190.txt',\n",
       " 'Episode 91 - Night Terrors.txt': 'https://scifi.media/wp-content/uploads/t/191.txt',\n",
       " 'Episode 92 - Identity Crisis.txt': 'https://scifi.media/wp-content/uploads/t/192.txt',\n",
       " 'Episode 93 - The Nth Degree.txt': 'https://scifi.media/wp-content/uploads/t/193.txt',\n",
       " 'Episode 94 - QPid.txt': 'https://scifi.media/wp-content/uploads/t/194.txt',\n",
       " 'Episode 95 - The Drumhead.txt': 'https://scifi.media/wp-content/uploads/t/195.txt',\n",
       " 'Episode 96 - Half a Life.txt': 'https://scifi.media/wp-content/uploads/t/196.txt',\n",
       " 'Episode 97 - The Host.txt': 'https://scifi.media/wp-content/uploads/t/197.txt',\n",
       " 'Episode 98 - The Mind’s Eye.txt': 'https://scifi.media/wp-content/uploads/t/198.txt',\n",
       " 'Episode 99 - In Theory.txt': 'https://scifi.media/wp-content/uploads/t/199.txt',\n",
       " 'Episode 100 - Redemption, Part I.txt': 'https://scifi.media/wp-content/uploads/t/200.txt',\n",
       " 'Episode 101 - Redemption, Part II.txt': 'https://scifi.media/wp-content/uploads/t/201.txt',\n",
       " 'Episode 102 - Darmok.txt': 'https://scifi.media/wp-content/uploads/t/202.txt',\n",
       " 'Episode 103 - Ensign Ro.txt': 'https://scifi.media/wp-content/uploads/t/203.txt',\n",
       " 'Episode 104 - Silicon Avatar.txt': 'https://scifi.media/wp-content/uploads/t/204.txt',\n",
       " 'Episode 105 - Disaster.txt': 'https://scifi.media/wp-content/uploads/t/205.txt',\n",
       " 'Episode 106 - The Game.txt': 'https://scifi.media/wp-content/uploads/t/206.txt',\n",
       " 'Episode 107 - Unification, Part I.txt': 'https://scifi.media/wp-content/uploads/t/208.txt',\n",
       " 'Episode 108 - Unification, Part II.txt': 'https://scifi.media/wp-content/uploads/t/207.txt',\n",
       " 'Episode 109 - A Matter of Time.txt': 'https://scifi.media/wp-content/uploads/t/209.txt',\n",
       " 'Episode 110 - New Ground.txt': 'https://scifi.media/wp-content/uploads/t/210.txt',\n",
       " 'Episode 111 - Hero Worship.txt': 'https://scifi.media/wp-content/uploads/t/211.txt',\n",
       " 'Episode 112 - Violations.txt': 'https://scifi.media/wp-content/uploads/t/212.txt',\n",
       " 'Episode 113 - The Masterpiece Society.txt': 'https://scifi.media/wp-content/uploads/t/213.txt',\n",
       " 'Episode 114 - Conundrum.txt': 'https://scifi.media/wp-content/uploads/t/214.txt',\n",
       " 'Episode 115 - Power Play.txt': 'https://scifi.media/wp-content/uploads/t/215.txt',\n",
       " 'Episode 116 - Ethics.txt': 'https://scifi.media/wp-content/uploads/t/216.txt',\n",
       " 'Episode 117 - The Outcast.txt': 'https://scifi.media/wp-content/uploads/t/217.txt',\n",
       " 'Episode 118 - Cause and Effect.txt': 'https://scifi.media/wp-content/uploads/t/218.txt',\n",
       " 'Episode 119 - The First Duty.txt': 'https://scifi.media/wp-content/uploads/t/219.txt',\n",
       " 'Episode 120 - Cost of Living.txt': 'https://scifi.media/wp-content/uploads/t/220.txt',\n",
       " 'Episode 121 - The Perfect Mate.txt': 'https://scifi.media/wp-content/uploads/t/221.txt',\n",
       " 'Episode 122 - Imaginary Friend.txt': 'https://scifi.media/wp-content/uploads/t/222.txt',\n",
       " 'Episode 123 - I, Borg.txt': 'https://scifi.media/wp-content/uploads/t/223.txt',\n",
       " 'Episode 124 - The Next Phase.txt': 'https://scifi.media/wp-content/uploads/t/224.txt',\n",
       " 'Episode 125 - The Inner Light.txt': 'https://scifi.media/wp-content/uploads/t/225.txt',\n",
       " 'Episode 126 - Time’s Arrow, Part I.txt': 'https://scifi.media/wp-content/uploads/t/226.txt',\n",
       " 'Episode 127 - Time’s Arrow, Part II.txt': 'https://scifi.media/wp-content/uploads/t/227.txt',\n",
       " 'Episode 128 - Realm of Fear.txt': 'https://scifi.media/wp-content/uploads/t/228.txt',\n",
       " 'Episode 129 - Man of the People.txt': 'https://scifi.media/wp-content/uploads/t/229.txt',\n",
       " 'Episode 130 - Relics.txt': 'https://scifi.media/wp-content/uploads/t/230.txt',\n",
       " 'Episode 131 - Schisms.txt': 'https://scifi.media/wp-content/uploads/t/231.txt',\n",
       " 'Episode 132 - True-Q.txt': 'https://scifi.media/wp-content/uploads/t/232.txt',\n",
       " 'Episode 133 - Rascals.txt': 'https://scifi.media/wp-content/uploads/t/233.txt',\n",
       " 'Episode 134 - A Fistful of Datas.txt': 'https://scifi.media/wp-content/uploads/t/234.txt',\n",
       " 'Episode 135 - The Quality of Life.txt': 'https://scifi.media/wp-content/uploads/t/235.txt',\n",
       " 'Episode 136 - Chain of Command, Part I.txt': 'https://scifi.media/wp-content/uploads/t/236.txt',\n",
       " 'Episode 137 - Chain of Command, Part II.txt': 'https://scifi.media/wp-content/uploads/t/237.txt',\n",
       " 'Episode 138 - Ship in a Bottle.txt': 'https://scifi.media/wp-content/uploads/t/238.txt',\n",
       " 'Episode 139 - Aquiel.txt': 'https://scifi.media/wp-content/uploads/t/239.txt',\n",
       " 'Episode 140 - Face of the Enemy.txt': 'https://scifi.media/wp-content/uploads/t/240.txt',\n",
       " 'Episode 141 - Tapestry.txt': 'https://scifi.media/wp-content/uploads/t/241.txt',\n",
       " 'Episode 142 - Birthright, Part I.txt': 'https://scifi.media/wp-content/uploads/t/242.txt',\n",
       " 'Episode 143 - Birthright, Part II.txt': 'https://scifi.media/wp-content/uploads/t/243.txt',\n",
       " 'Episode 144 - Starship Mine.txt': 'https://scifi.media/wp-content/uploads/t/244.txt',\n",
       " 'Episode 145 - Lessons.txt': 'https://scifi.media/wp-content/uploads/t/245.txt',\n",
       " 'Episode 146 - The Chase.txt': 'https://scifi.media/wp-content/uploads/t/246.txt',\n",
       " 'Episode 147 - Frame of Mind.txt': 'https://scifi.media/wp-content/uploads/t/247.txt',\n",
       " 'Episode 148 - Suspicions.txt': 'https://scifi.media/wp-content/uploads/t/248.txt',\n",
       " 'Episode 149 - Rightful Heir.txt': 'https://scifi.media/wp-content/uploads/t/249.txt',\n",
       " 'Episode 150 - Second Chances.txt': 'https://scifi.media/wp-content/uploads/t/250.txt',\n",
       " 'Episode 151 - Timescape.txt': 'https://scifi.media/wp-content/uploads/t/251.txt',\n",
       " 'Episode 152 - Descent, Part I.txt': 'https://scifi.media/wp-content/uploads/t/252.txt',\n",
       " 'Episode 153 - Descent, Part II.txt': 'https://scifi.media/wp-content/uploads/t/253.txt',\n",
       " 'Episode 154 - Liaisons.txt': 'https://scifi.media/wp-content/uploads/t/254.txt',\n",
       " 'Episode 155 - Interface.txt': 'https://scifi.media/wp-content/uploads/t/255.txt',\n",
       " 'Episode 156 - Gambit, Part I.txt': 'https://scifi.media/wp-content/uploads/t/256.txt',\n",
       " 'Episode 157 - Gambit, Part II.txt': 'https://scifi.media/wp-content/uploads/t/257.txt',\n",
       " 'Episode 158 - Phantasms.txt': 'https://scifi.media/wp-content/uploads/t/258.txt',\n",
       " 'Episode 159 - Dark Page.txt': 'https://scifi.media/wp-content/uploads/t/259.txt',\n",
       " 'Episode 160 - Attached.txt': 'https://scifi.media/wp-content/uploads/t/260.txt',\n",
       " 'Episode 161 - Force of Nature.txt': 'https://scifi.media/wp-content/uploads/t/261.txt',\n",
       " 'Episode 162 - Inheritance.txt': 'https://scifi.media/wp-content/uploads/t/262.txt',\n",
       " 'Episode 163 - Parallels.txt': 'https://scifi.media/wp-content/uploads/t/263.txt',\n",
       " 'Episode 164 - The Pegasus.txt': 'https://scifi.media/wp-content/uploads/t/264.txt',\n",
       " 'Episode 165 - Homeward.txt': 'https://scifi.media/wp-content/uploads/t/265.txt',\n",
       " 'Episode 166 - Sub Rosa.txt': 'https://scifi.media/wp-content/uploads/t/266.txt',\n",
       " 'Episode 167 - Lower Decks.txt': 'https://scifi.media/wp-content/uploads/t/267.txt',\n",
       " 'Episode 168 - Thine Own Self.txt': 'https://scifi.media/wp-content/uploads/t/268.txt',\n",
       " 'Episode 169 - Masks.txt': 'https://scifi.media/wp-content/uploads/t/269.txt',\n",
       " 'Episode 170 - Eye of the Beholder.txt': 'https://scifi.media/wp-content/uploads/t/270.txt',\n",
       " 'Episode 171 - Genesis.txt': 'https://scifi.media/wp-content/uploads/t/271.txt',\n",
       " 'Episode 172 - Journey’s End.txt': 'https://scifi.media/wp-content/uploads/t/272.txt',\n",
       " 'Episode 173 - Firstborn.txt': 'https://scifi.media/wp-content/uploads/t/273.txt',\n",
       " 'Episode 174 - Bloodlines.txt': 'https://scifi.media/wp-content/uploads/t/274.txt',\n",
       " 'Episode 175 - Emergence.txt': 'https://scifi.media/wp-content/uploads/t/275.txt',\n",
       " 'Episode 176 - Pre-emptive Strike.txt': 'https://scifi.media/wp-content/uploads/t/276.txt',\n",
       " 'Episode 177 - All Good Things….txt': 'https://scifi.media/wp-content/uploads/t/277.txt'}"
      ]
     },
     "execution_count": 5,
     "metadata": {},
     "output_type": "execute_result"
    }
   ],
   "source": [
    "p._collect_download_names_urls()"
   ]
  },
  {
   "cell_type": "code",
   "execution_count": null,
   "metadata": {},
   "outputs": [],
   "source": []
  },
  {
   "cell_type": "code",
   "execution_count": null,
   "metadata": {},
   "outputs": [],
   "source": []
  },
  {
   "cell_type": "code",
   "execution_count": null,
   "metadata": {},
   "outputs": [],
   "source": [
    "header is "
   ]
  },
  {
   "cell_type": "code",
   "execution_count": null,
   "metadata": {},
   "outputs": [],
   "source": []
  },
  {
   "cell_type": "code",
   "execution_count": null,
   "metadata": {},
   "outputs": [],
   "source": []
  },
  {
   "cell_type": "code",
   "execution_count": null,
   "metadata": {},
   "outputs": [],
   "source": []
  },
  {
   "cell_type": "code",
   "execution_count": null,
   "metadata": {},
   "outputs": [],
   "source": []
  },
  {
   "cell_type": "code",
   "execution_count": null,
   "metadata": {},
   "outputs": [],
   "source": []
  },
  {
   "cell_type": "code",
   "execution_count": null,
   "metadata": {},
   "outputs": [],
   "source": []
  },
  {
   "cell_type": "code",
   "execution_count": null,
   "metadata": {},
   "outputs": [],
   "source": []
  },
  {
   "cell_type": "code",
   "execution_count": null,
   "metadata": {},
   "outputs": [],
   "source": [
    "indices"
   ]
  },
  {
   "cell_type": "code",
   "execution_count": null,
   "metadata": {},
   "outputs": [],
   "source": []
  },
  {
   "cell_type": "code",
   "execution_count": 180,
   "metadata": {},
   "outputs": [],
   "source": [
    "test = extract_entire_dialogue(script, remove_blank_lines=True)"
   ]
  },
  {
   "cell_type": "code",
   "execution_count": null,
   "metadata": {},
   "outputs": [],
   "source": [
    "test"
   ]
  },
  {
   "cell_type": "code",
   "execution_count": null,
   "metadata": {},
   "outputs": [],
   "source": []
  },
  {
   "cell_type": "code",
   "execution_count": null,
   "metadata": {},
   "outputs": [],
   "source": []
  },
  {
   "cell_type": "code",
   "execution_count": null,
   "metadata": {},
   "outputs": [],
   "source": [
    "sections, indices = section_headers(test)"
   ]
  },
  {
   "cell_type": "code",
   "execution_count": 186,
   "metadata": {},
   "outputs": [],
   "source": [
    "i = 0\n",
    "for key in sections.values():\n",
    "    i += len(key)"
   ]
  },
  {
   "cell_type": "code",
   "execution_count": 188,
   "metadata": {},
   "outputs": [
    {
     "data": {
      "text/plain": [
       "(164, 164, 118)"
      ]
     },
     "execution_count": 188,
     "metadata": {},
     "output_type": "execute_result"
    }
   ],
   "source": [
    "i, len(indices), len(sections.keys())"
   ]
  },
  {
   "cell_type": "code",
   "execution_count": null,
   "metadata": {},
   "outputs": [],
   "source": [
    "        "
   ]
  },
  {
   "cell_type": "code",
   "execution_count": null,
   "metadata": {},
   "outputs": [],
   "source": [
    "print(spoken_text)"
   ]
  },
  {
   "cell_type": "code",
   "execution_count": 137,
   "metadata": {},
   "outputs": [],
   "source": [
    "importlib.reload(preprocess)\n",
    "importlib.reload(episode)\n",
    "\n",
    "from episode import Episode\n",
    "from preprocess import StarTrekPreprocessing"
   ]
  },
  {
   "cell_type": "code",
   "execution_count": 5,
   "metadata": {},
   "outputs": [],
   "source": [
    "a = StarTrekPreprocessing(series='tng')"
   ]
  },
  {
   "cell_type": "code",
   "execution_count": 6,
   "metadata": {},
   "outputs": [
    {
     "data": {
      "text/plain": [
       "Episode(series_name='The Next Generation', season_number=0, episode_number=0, episode_name='Haven', alt_name='', multi_part=False, script_file_type='', script='Episode 5 - Haven.txt')"
      ]
     },
     "execution_count": 6,
     "metadata": {},
     "output_type": "execute_result"
    }
   ],
   "source": [
    "a.populate_episode(file)"
   ]
  },
  {
   "cell_type": "code",
   "execution_count": 24,
   "metadata": {},
   "outputs": [],
   "source": []
  },
  {
   "cell_type": "code",
   "execution_count": 7,
   "metadata": {},
   "outputs": [],
   "source": [
    "ia = IMDb()"
   ]
  },
  {
   "cell_type": "code",
   "execution_count": 8,
   "metadata": {},
   "outputs": [],
   "source": [
    "tng = ia.search_movie('star trek the next generation')[0]"
   ]
  },
  {
   "cell_type": "code",
   "execution_count": 9,
   "metadata": {},
   "outputs": [],
   "source": [
    "tng = ia.get_movie('0092455')"
   ]
  },
  {
   "cell_type": "code",
   "execution_count": null,
   "metadata": {},
   "outputs": [],
   "source": [
    "tng.infoset2keys"
   ]
  },
  {
   "cell_type": "code",
   "execution_count": 11,
   "metadata": {},
   "outputs": [
    {
     "data": {
      "text/plain": [
       "'tv series'"
      ]
     },
     "execution_count": 11,
     "metadata": {},
     "output_type": "execute_result"
    }
   ],
   "source": [
    "tng['kind']"
   ]
  },
  {
   "cell_type": "code",
   "execution_count": 13,
   "metadata": {},
   "outputs": [],
   "source": [
    "from imdb.helpers import sortedSeasons, sortedEpisodes"
   ]
  },
  {
   "cell_type": "code",
   "execution_count": 16,
   "metadata": {},
   "outputs": [
    {
     "data": {
      "text/plain": [
       "[]"
      ]
     },
     "execution_count": 16,
     "metadata": {},
     "output_type": "execute_result"
    }
   ],
   "source": [
    "sortedEpisodes(tng)"
   ]
  },
  {
   "cell_type": "code",
   "execution_count": 19,
   "metadata": {},
   "outputs": [],
   "source": [
    "ia.update(tng, 'episodes')"
   ]
  },
  {
   "cell_type": "code",
   "execution_count": 22,
   "metadata": {},
   "outputs": [
    {
     "data": {
      "text/plain": [
       "[1, 2, 3, 4, 5, 6, 7]"
      ]
     },
     "execution_count": 22,
     "metadata": {},
     "output_type": "execute_result"
    }
   ],
   "source": [
    "sorted(tng['episodes'].keys())"
   ]
  },
  {
   "cell_type": "code",
   "execution_count": null,
   "metadata": {},
   "outputs": [],
   "source": [
    "tng['episodes'][7][1].keys()"
   ]
  },
  {
   "cell_type": "code",
   "execution_count": null,
   "metadata": {},
   "outputs": [],
   "source": [
    "dict(zip(tng['episodes'][7][1].keys(), tng['episodes'][7][1].values()))"
   ]
  },
  {
   "cell_type": "code",
   "execution_count": 63,
   "metadata": {},
   "outputs": [
    {
     "data": {
      "text/plain": [
       "29"
      ]
     },
     "execution_count": 63,
     "metadata": {},
     "output_type": "execute_result"
    }
   ],
   "source": [
    "len(' (TV Series 1987–1994) - IMDb')"
   ]
  },
  {
   "cell_type": "code",
   "execution_count": 68,
   "metadata": {},
   "outputs": [],
   "source": [
    "series_sub_title = tng['episodes'][7][1]['series title'][11:-29]"
   ]
  },
  {
   "cell_type": "code",
   "execution_count": 69,
   "metadata": {},
   "outputs": [],
   "source": [
    "series_full_title = tng['episodes'][7][1]['series title'][:-29]"
   ]
  },
  {
   "cell_type": "code",
   "execution_count": 71,
   "metadata": {},
   "outputs": [],
   "source": [
    "def get_series_sub_title(episode):\n",
    "    return get_series_full_title(episode)[11:]"
   ]
  },
  {
   "cell_type": "code",
   "execution_count": 72,
   "metadata": {},
   "outputs": [],
   "source": [
    "def get_series_full_title(episode):\n",
    "    return episode['series title'][:-29]"
   ]
  },
  {
   "cell_type": "code",
   "execution_count": 74,
   "metadata": {},
   "outputs": [
    {
     "data": {
      "text/plain": [
       "'The Next Generation'"
      ]
     },
     "execution_count": 74,
     "metadata": {},
     "output_type": "execute_result"
    }
   ],
   "source": [
    "get_series_sub_title(tng['episodes'][7][1])"
   ]
  },
  {
   "cell_type": "code",
   "execution_count": null,
   "metadata": {},
   "outputs": [],
   "source": [
    "def get_episode_number(episode):\n",
    "    return episode['episode']\n",
    "\n",
    "def get_season_number(episode):\n",
    "    return episode['season']\n",
    "\n",
    "def get_episode_title(episode):\n",
    "    return episode['title']\n",
    "\n",
    "def get_"
   ]
  },
  {
   "cell_type": "code",
   "execution_count": 77,
   "metadata": {},
   "outputs": [],
   "source": [
    "from imdb import Movie"
   ]
  },
  {
   "cell_type": "code",
   "execution_count": 79,
   "metadata": {},
   "outputs": [
    {
     "data": {
      "text/plain": [
       "True"
      ]
     },
     "execution_count": 79,
     "metadata": {},
     "output_type": "execute_result"
    }
   ],
   "source": [
    "isinstance(tng, Movie.Movie)"
   ]
  },
  {
   "cell_type": "code",
   "execution_count": null,
   "metadata": {},
   "outputs": [],
   "source": [
    "def get_episode(episode):\n",
    "    series_name = get_series_sub_title(episode)\n",
    "    "
   ]
  },
  {
   "cell_type": "code",
   "execution_count": 48,
   "metadata": {},
   "outputs": [],
   "source": [
    "episode_list = []\n",
    "for season, episodes in tng['episodes'].items():\n",
    "    for number, episode in episodes.items():\n",
    "        episode_list.append(Episode(series_name='The Next Generation', season_number=episode['season'], episode_number=episode['episode'], episode_name=episode['title']))"
   ]
  },
  {
   "cell_type": "code",
   "execution_count": null,
   "metadata": {},
   "outputs": [],
   "source": [
    "list(filter(lambda episode: episode.season_number==7, episode_list))"
   ]
  },
  {
   "cell_type": "code",
   "execution_count": 138,
   "metadata": {},
   "outputs": [],
   "source": [
    "tng_test1 = Episode(tng['episodes'][7][1])"
   ]
  },
  {
   "cell_type": "code",
   "execution_count": 139,
   "metadata": {},
   "outputs": [
    {
     "data": {
      "text/plain": [
       "'Star Trek: The Next Generation'"
      ]
     },
     "execution_count": 139,
     "metadata": {},
     "output_type": "execute_result"
    }
   ],
   "source": [
    "tng_test1.series_full_title"
   ]
  },
  {
   "cell_type": "code",
   "execution_count": null,
   "metadata": {},
   "outputs": [],
   "source": []
  }
 ],
 "metadata": {
  "kernelspec": {
   "display_name": "Python 3",
   "language": "python",
   "name": "python3"
  },
  "language_info": {
   "codemirror_mode": {
    "name": "ipython",
    "version": 3
   },
   "file_extension": ".py",
   "mimetype": "text/x-python",
   "name": "python",
   "nbconvert_exporter": "python",
   "pygments_lexer": "ipython3",
   "version": "3.7.3"
  }
 },
 "nbformat": 4,
 "nbformat_minor": 4
}
