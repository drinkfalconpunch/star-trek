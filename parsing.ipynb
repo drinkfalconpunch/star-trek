{
 "cells": [
  {
   "cell_type": "code",
   "execution_count": 90,
   "metadata": {},
   "outputs": [],
   "source": [
    "from collections import deque\n",
    "from pathlib import Path\n",
    "import episode\n",
    "from episode import Episode\n",
    "import re\n",
    "import importlib\n",
    "import preprocess\n",
    "from imdb import IMDb"
   ]
  },
  {
   "cell_type": "code",
   "execution_count": 2,
   "metadata": {},
   "outputs": [],
   "source": [
    "file = 'Episode 5 - Haven.txt'"
   ]
  },
  {
   "cell_type": "code",
   "execution_count": 3,
   "metadata": {},
   "outputs": [],
   "source": [
    "script = open(Path('./scripts/tng') / file, 'r').read()"
   ]
  },
  {
   "cell_type": "code",
   "execution_count": null,
   "metadata": {},
   "outputs": [],
   "source": []
  },
  {
   "cell_type": "code",
   "execution_count": 144,
   "metadata": {},
   "outputs": [],
   "source": [
    "def extract_entire_dialogue(script, remove_blank_lines=False):\n",
    "    script = deque(script.split('\\n'))\n",
    "    # Iterate through the lines until a number is found as the first character.\n",
    "    while True:\n",
    "        line = script.popleft()\n",
    "        words = line.split()\n",
    "        \n",
    "        # Skip blank lines\n",
    "        if not words:\n",
    "            continue\n",
    "        try:\n",
    "            # Found the first line.\n",
    "            int(words[0][0])\n",
    "            #  Put it back and break. Runs in O(1) time.\n",
    "            script.appendleft(line)\n",
    "            break\n",
    "        except ValueError:\n",
    "            continue\n",
    "            \n",
    "    if remove_blank_lines:\n",
    "        script = list(filter(None, script))\n",
    "\n",
    "    return [s.lstrip() for s in script]"
   ]
  },
  {
   "cell_type": "code",
   "execution_count": 179,
   "metadata": {},
   "outputs": [],
   "source": [
    "def section_headers(dialogue):\n",
    "    '''Returns the section headers from a block of dialogue and their\n",
    "    respective line numbers in said block.'''\n",
    "    sections = {}\n",
    "    indices = []\n",
    "    \n",
    "    for index, line in enumerate(dialogue):\n",
    "        words = line.split()\n",
    "        if not words:\n",
    "            continue\n",
    "        try:\n",
    "            int(words[0][0])\n",
    "            number = words[0]\n",
    "            name = \" \".join(words[1:])\n",
    "            if not name:\n",
    "                name = 'OMITTED'\n",
    "            # Check for same section number\n",
    "            if number in sections.keys():\n",
    "                sections[number].append(name)\n",
    "            else:\n",
    "                sections[number] = [name]\n",
    "            indices.append(index)\n",
    "        except:\n",
    "            continue\n",
    "\n",
    "    return sections, indices"
   ]
  },
  {
   "cell_type": "code",
   "execution_count": null,
   "metadata": {},
   "outputs": [],
   "source": []
  },
  {
   "cell_type": "code",
   "execution_count": null,
   "metadata": {},
   "outputs": [],
   "source": [
    "sections, indices = section_headers(script)"
   ]
  },
  {
   "cell_type": "code",
   "execution_count": null,
   "metadata": {},
   "outputs": [],
   "source": [
    "indices"
   ]
  },
  {
   "cell_type": "code",
   "execution_count": null,
   "metadata": {},
   "outputs": [],
   "source": []
  },
  {
   "cell_type": "code",
   "execution_count": 180,
   "metadata": {},
   "outputs": [],
   "source": [
    "test = extract_entire_dialogue(script, remove_blank_lines=True)"
   ]
  },
  {
   "cell_type": "code",
   "execution_count": null,
   "metadata": {},
   "outputs": [],
   "source": [
    "test"
   ]
  },
  {
   "cell_type": "code",
   "execution_count": null,
   "metadata": {},
   "outputs": [],
   "source": []
  },
  {
   "cell_type": "code",
   "execution_count": null,
   "metadata": {},
   "outputs": [],
   "source": []
  },
  {
   "cell_type": "code",
   "execution_count": null,
   "metadata": {},
   "outputs": [],
   "source": [
    "sections, indices = section_headers(test)"
   ]
  },
  {
   "cell_type": "code",
   "execution_count": 186,
   "metadata": {},
   "outputs": [],
   "source": [
    "i = 0\n",
    "for key in sections.values():\n",
    "    i += len(key)"
   ]
  },
  {
   "cell_type": "code",
   "execution_count": 188,
   "metadata": {},
   "outputs": [
    {
     "data": {
      "text/plain": [
       "(164, 164, 118)"
      ]
     },
     "execution_count": 188,
     "metadata": {},
     "output_type": "execute_result"
    }
   ],
   "source": [
    "i, len(indices), len(sections.keys())"
   ]
  },
  {
   "cell_type": "code",
   "execution_count": null,
   "metadata": {},
   "outputs": [],
   "source": [
    "def find_actors(script):\n",
    "    actors = ''\n",
    "    for line in script.split('\\n'):\n",
    "        words = line.split()\n",
    "    #     print(words)\n",
    "        if not words:\n",
    "            continue\n",
    "        if len(words[0]) > 1 and all([i.isupper() for i in words]):\n",
    "            # check if line starts with number and skip if true\n",
    "            try:\n",
    "                int(words[0][0])\n",
    "                continue\n",
    "            except:\n",
    "                pass\n",
    "            print('caps', words)\n",
    "            continue\n",
    "        if len(line) - len(line.lstrip()) > 4:\n",
    "            spoken_text = spoken_text + line.strip() + ' \\n'\n",
    "\n",
    "        "
   ]
  },
  {
   "cell_type": "code",
   "execution_count": null,
   "metadata": {},
   "outputs": [],
   "source": [
    "print(spoken_text)"
   ]
  },
  {
   "cell_type": "code",
   "execution_count": 133,
   "metadata": {},
   "outputs": [],
   "source": [
    "importlib.reload(preprocess)\n",
    "importlib.reload(episode)\n",
    "\n",
    "from episode import Episode\n",
    "from preprocess import StarTrekPreprocessing"
   ]
  },
  {
   "cell_type": "code",
   "execution_count": 5,
   "metadata": {},
   "outputs": [],
   "source": [
    "a = StarTrekPreprocessing(series='tng')"
   ]
  },
  {
   "cell_type": "code",
   "execution_count": 6,
   "metadata": {},
   "outputs": [
    {
     "data": {
      "text/plain": [
       "Episode(series_name='The Next Generation', season_number=0, episode_number=0, episode_name='Haven', alt_name='', multi_part=False, script_file_type='', script='Episode 5 - Haven.txt')"
      ]
     },
     "execution_count": 6,
     "metadata": {},
     "output_type": "execute_result"
    }
   ],
   "source": [
    "a.populate_episode(file)"
   ]
  },
  {
   "cell_type": "code",
   "execution_count": 24,
   "metadata": {},
   "outputs": [],
   "source": []
  },
  {
   "cell_type": "code",
   "execution_count": 7,
   "metadata": {},
   "outputs": [],
   "source": [
    "ia = IMDb()"
   ]
  },
  {
   "cell_type": "code",
   "execution_count": 8,
   "metadata": {},
   "outputs": [],
   "source": [
    "tng = ia.search_movie('star trek the next generation')[0]"
   ]
  },
  {
   "cell_type": "code",
   "execution_count": 9,
   "metadata": {},
   "outputs": [],
   "source": [
    "tng = ia.get_movie('0092455')"
   ]
  },
  {
   "cell_type": "code",
   "execution_count": null,
   "metadata": {},
   "outputs": [],
   "source": [
    "tng.infoset2keys"
   ]
  },
  {
   "cell_type": "code",
   "execution_count": 11,
   "metadata": {},
   "outputs": [
    {
     "data": {
      "text/plain": [
       "'tv series'"
      ]
     },
     "execution_count": 11,
     "metadata": {},
     "output_type": "execute_result"
    }
   ],
   "source": [
    "tng['kind']"
   ]
  },
  {
   "cell_type": "code",
   "execution_count": 13,
   "metadata": {},
   "outputs": [],
   "source": [
    "from imdb.helpers import sortedSeasons, sortedEpisodes"
   ]
  },
  {
   "cell_type": "code",
   "execution_count": 16,
   "metadata": {},
   "outputs": [
    {
     "data": {
      "text/plain": [
       "[]"
      ]
     },
     "execution_count": 16,
     "metadata": {},
     "output_type": "execute_result"
    }
   ],
   "source": [
    "sortedEpisodes(tng)"
   ]
  },
  {
   "cell_type": "code",
   "execution_count": 19,
   "metadata": {},
   "outputs": [],
   "source": [
    "ia.update(tng, 'episodes')"
   ]
  },
  {
   "cell_type": "code",
   "execution_count": 22,
   "metadata": {},
   "outputs": [
    {
     "data": {
      "text/plain": [
       "[1, 2, 3, 4, 5, 6, 7]"
      ]
     },
     "execution_count": 22,
     "metadata": {},
     "output_type": "execute_result"
    }
   ],
   "source": [
    "sorted(tng['episodes'].keys())"
   ]
  },
  {
   "cell_type": "code",
   "execution_count": null,
   "metadata": {},
   "outputs": [],
   "source": [
    "tng['episodes'][7][1].keys()"
   ]
  },
  {
   "cell_type": "code",
   "execution_count": null,
   "metadata": {},
   "outputs": [],
   "source": [
    "dict(zip(tng['episodes'][7][1].keys(), tng['episodes'][7][1].values()))"
   ]
  },
  {
   "cell_type": "code",
   "execution_count": 63,
   "metadata": {},
   "outputs": [
    {
     "data": {
      "text/plain": [
       "29"
      ]
     },
     "execution_count": 63,
     "metadata": {},
     "output_type": "execute_result"
    }
   ],
   "source": [
    "len(' (TV Series 1987–1994) - IMDb')"
   ]
  },
  {
   "cell_type": "code",
   "execution_count": 68,
   "metadata": {},
   "outputs": [],
   "source": [
    "series_sub_title = tng['episodes'][7][1]['series title'][11:-29]"
   ]
  },
  {
   "cell_type": "code",
   "execution_count": 69,
   "metadata": {},
   "outputs": [],
   "source": [
    "series_full_title = tng['episodes'][7][1]['series title'][:-29]"
   ]
  },
  {
   "cell_type": "code",
   "execution_count": 71,
   "metadata": {},
   "outputs": [],
   "source": [
    "def get_series_sub_title(episode):\n",
    "    return get_series_full_title(episode)[11:]"
   ]
  },
  {
   "cell_type": "code",
   "execution_count": 72,
   "metadata": {},
   "outputs": [],
   "source": [
    "def get_series_full_title(episode):\n",
    "    return episode['series title'][:-29]"
   ]
  },
  {
   "cell_type": "code",
   "execution_count": 74,
   "metadata": {},
   "outputs": [
    {
     "data": {
      "text/plain": [
       "'The Next Generation'"
      ]
     },
     "execution_count": 74,
     "metadata": {},
     "output_type": "execute_result"
    }
   ],
   "source": [
    "get_series_sub_title(tng['episodes'][7][1])"
   ]
  },
  {
   "cell_type": "code",
   "execution_count": null,
   "metadata": {},
   "outputs": [],
   "source": [
    "def get_episode_number(episode):\n",
    "    return episode['episode']\n",
    "\n",
    "def get_season_number(episode):\n",
    "    return episode['season']\n",
    "\n",
    "def get_episode_title(episode):\n",
    "    return episode['title']\n",
    "\n",
    "def get_"
   ]
  },
  {
   "cell_type": "code",
   "execution_count": 77,
   "metadata": {},
   "outputs": [],
   "source": [
    "from imdb import Movie"
   ]
  },
  {
   "cell_type": "code",
   "execution_count": 79,
   "metadata": {},
   "outputs": [
    {
     "data": {
      "text/plain": [
       "True"
      ]
     },
     "execution_count": 79,
     "metadata": {},
     "output_type": "execute_result"
    }
   ],
   "source": [
    "isinstance(tng, Movie.Movie)"
   ]
  },
  {
   "cell_type": "code",
   "execution_count": null,
   "metadata": {},
   "outputs": [],
   "source": [
    "def get_episode(episode):\n",
    "    series_name = get_series_sub_title(episode)\n",
    "    "
   ]
  },
  {
   "cell_type": "code",
   "execution_count": 48,
   "metadata": {},
   "outputs": [],
   "source": [
    "episode_list = []\n",
    "for season, episodes in tng['episodes'].items():\n",
    "    for number, episode in episodes.items():\n",
    "        episode_list.append(Episode(series_name='The Next Generation', season_number=episode['season'], episode_number=episode['episode'], episode_name=episode['title']))"
   ]
  },
  {
   "cell_type": "code",
   "execution_count": null,
   "metadata": {},
   "outputs": [],
   "source": [
    "list(filter(lambda episode: episode.season_number==7, episode_list))"
   ]
  },
  {
   "cell_type": "code",
   "execution_count": 134,
   "metadata": {},
   "outputs": [],
   "source": [
    "tng_test1 = Episode(tng['episodes'][7][1])"
   ]
  },
  {
   "cell_type": "code",
   "execution_count": 136,
   "metadata": {},
   "outputs": [
    {
     "ename": "SyntaxError",
     "evalue": "invalid syntax (<ipython-input-136-79b834da87e0>, line 1)",
     "output_type": "error",
     "traceback": [
      "\u001b[1;36m  File \u001b[1;32m\"<ipython-input-136-79b834da87e0>\"\u001b[1;36m, line \u001b[1;32m1\u001b[0m\n\u001b[1;33m    tng_test1.canonical series title\u001b[0m\n\u001b[1;37m                             ^\u001b[0m\n\u001b[1;31mSyntaxError\u001b[0m\u001b[1;31m:\u001b[0m invalid syntax\n"
     ]
    }
   ],
   "source": [
    "tng_test1.canonical series title"
   ]
  },
  {
   "cell_type": "code",
   "execution_count": null,
   "metadata": {},
   "outputs": [],
   "source": []
  }
 ],
 "metadata": {
  "kernelspec": {
   "display_name": "Python 3",
   "language": "python",
   "name": "python3"
  },
  "language_info": {
   "codemirror_mode": {
    "name": "ipython",
    "version": 3
   },
   "file_extension": ".py",
   "mimetype": "text/x-python",
   "name": "python",
   "nbconvert_exporter": "python",
   "pygments_lexer": "ipython3",
   "version": "3.7.3"
  }
 },
 "nbformat": 4,
 "nbformat_minor": 2
}
